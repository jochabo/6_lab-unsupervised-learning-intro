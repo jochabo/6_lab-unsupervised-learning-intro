{
 "cells": [
  {
   "attachments": {},
   "cell_type": "markdown",
   "metadata": {},
   "source": [
    "# GNOD"
   ]
  },
  {
   "attachments": {},
   "cell_type": "markdown",
   "metadata": {},
   "source": [
    "Business goal:\n",
    "Check the case_study_gnod.md file.\n",
    "\n",
    "Make sure you've understood the big picture of your project:\n",
    "\n",
    "the goal of the company (Gnod),\n",
    "their current product (Gnoosic),\n",
    "their strategy, and\n",
    "how your project fits into this context.\n",
    "Re-read the business case and the e-mail from the CTO, take a look at the flowchart and create an initial Trello board with the tasks you think you'll have to accomplish."
   ]
  },
  {
   "attachments": {},
   "cell_type": "markdown",
   "metadata": {},
   "source": [
    "# GNOD | Part 4"
   ]
  },
  {
   "attachments": {},
   "cell_type": "markdown",
   "metadata": {},
   "source": [
    "## Lab | Unsupervised learning intro"
   ]
  },
  {
   "attachments": {},
   "cell_type": "markdown",
   "metadata": {},
   "source": [
    "Instructions  \n",
    "It's the moment to perform clustering on the songs you collected. Remember that the ultimate goal of this little project is to improve the recommendations of artists. Clustering the songs will allow the recommendation system to limit the scope of the recommendations to only songs that belong to the same cluster - songs with similar audio features.\n",
    "\n",
    "The experiments you did with the Spotify API and the Billboard web scraping will allow you to create a pipeline such that when the user enters a song, you:\n",
    "\n",
    "Check whether or not the song is in the Billboard Hot 200.\n",
    "Collect the audio features from the Spotify API.\n",
    "After that, you want to send the Spotify audio features of the submitted song to the clustering model, which should return a cluster number.\n",
    "\n",
    "We want to have as many songs as possible to create the clustering model, so we will add the songs you collected to a bigger dataset available on Kaggle containing 160 thousand songs."
   ]
  },
  {
   "attachments": {},
   "cell_type": "markdown",
   "metadata": {},
   "source": [
    "#### Importing libraries"
   ]
  },
  {
   "cell_type": "code",
   "execution_count": 71,
   "metadata": {},
   "outputs": [],
   "source": [
    "# Standard Libraries\n",
    "import numpy as np\n",
    "import pandas as pd\n",
    "\n",
    "#for plots\n",
    "import matplotlib.pyplot as plt\n",
    "from matplotlib.lines import Line2D\n",
    "\n",
    "#for clustering\n",
    "from sklearn import cluster, datasets\n",
    "from sklearn.cluster import KMeans\n",
    "import pickle\n",
    "from sklearn.metrics import silhouette_score\n",
    "\n",
    "#scaling numerical variables\n",
    "from sklearn.preprocessing import StandardScaler"
   ]
  },
  {
   "cell_type": "code",
   "execution_count": 57,
   "metadata": {},
   "outputs": [
    {
     "data": {
      "text/html": [
       "<div>\n",
       "<style scoped>\n",
       "    .dataframe tbody tr th:only-of-type {\n",
       "        vertical-align: middle;\n",
       "    }\n",
       "\n",
       "    .dataframe tbody tr th {\n",
       "        vertical-align: top;\n",
       "    }\n",
       "\n",
       "    .dataframe thead th {\n",
       "        text-align: right;\n",
       "    }\n",
       "</style>\n",
       "<table border=\"1\" class=\"dataframe\">\n",
       "  <thead>\n",
       "    <tr style=\"text-align: right;\">\n",
       "      <th></th>\n",
       "      <th>title</th>\n",
       "      <th>artist</th>\n",
       "      <th>danceability</th>\n",
       "      <th>energy</th>\n",
       "      <th>key</th>\n",
       "      <th>loudness</th>\n",
       "      <th>mode</th>\n",
       "      <th>speechiness</th>\n",
       "      <th>acousticness</th>\n",
       "      <th>instrumentalness</th>\n",
       "      <th>liveness</th>\n",
       "      <th>valence</th>\n",
       "      <th>tempo</th>\n",
       "      <th>type</th>\n",
       "      <th>id</th>\n",
       "      <th>uri</th>\n",
       "      <th>track_href</th>\n",
       "      <th>analysis_url</th>\n",
       "      <th>duration_ms</th>\n",
       "      <th>time_signature</th>\n",
       "    </tr>\n",
       "  </thead>\n",
       "  <tbody>\n",
       "    <tr>\n",
       "      <th>0</th>\n",
       "      <td>It's Beginning to Look a Lot Like Christmas (w...</td>\n",
       "      <td>Perry Como</td>\n",
       "      <td>0.724</td>\n",
       "      <td>0.276</td>\n",
       "      <td>7.0</td>\n",
       "      <td>-12.250</td>\n",
       "      <td>1.0</td>\n",
       "      <td>0.0599</td>\n",
       "      <td>0.760</td>\n",
       "      <td>0.000000</td>\n",
       "      <td>0.1160</td>\n",
       "      <td>0.718</td>\n",
       "      <td>112.874</td>\n",
       "      <td>audio_features</td>\n",
       "      <td>2pXpURmn6zC5ZYDMms6fwa</td>\n",
       "      <td>spotify:track:2pXpURmn6zC5ZYDMms6fwa</td>\n",
       "      <td>https://api.spotify.com/v1/tracks/2pXpURmn6zC5...</td>\n",
       "      <td>https://api.spotify.com/v1/audio-analysis/2pXp...</td>\n",
       "      <td>155933.0</td>\n",
       "      <td>4.0</td>\n",
       "    </tr>\n",
       "    <tr>\n",
       "      <th>1</th>\n",
       "      <td>And I Love You So</td>\n",
       "      <td>Perry Como</td>\n",
       "      <td>0.415</td>\n",
       "      <td>0.220</td>\n",
       "      <td>8.0</td>\n",
       "      <td>-17.470</td>\n",
       "      <td>1.0</td>\n",
       "      <td>0.0261</td>\n",
       "      <td>0.878</td>\n",
       "      <td>0.651000</td>\n",
       "      <td>0.1250</td>\n",
       "      <td>0.268</td>\n",
       "      <td>90.267</td>\n",
       "      <td>audio_features</td>\n",
       "      <td>1naVD19eofGpFf6wosmHIe</td>\n",
       "      <td>spotify:track:1naVD19eofGpFf6wosmHIe</td>\n",
       "      <td>https://api.spotify.com/v1/tracks/1naVD19eofGp...</td>\n",
       "      <td>https://api.spotify.com/v1/audio-analysis/1naV...</td>\n",
       "      <td>197627.0</td>\n",
       "      <td>4.0</td>\n",
       "    </tr>\n",
       "    <tr>\n",
       "      <th>2</th>\n",
       "      <td>Christmas Dream</td>\n",
       "      <td>Perry Como</td>\n",
       "      <td>0.514</td>\n",
       "      <td>0.287</td>\n",
       "      <td>10.0</td>\n",
       "      <td>-13.971</td>\n",
       "      <td>1.0</td>\n",
       "      <td>0.0352</td>\n",
       "      <td>0.672</td>\n",
       "      <td>0.000004</td>\n",
       "      <td>0.0677</td>\n",
       "      <td>0.834</td>\n",
       "      <td>184.356</td>\n",
       "      <td>audio_features</td>\n",
       "      <td>1PrhnQxWAVYikCHcieRQiy</td>\n",
       "      <td>spotify:track:1PrhnQxWAVYikCHcieRQiy</td>\n",
       "      <td>https://api.spotify.com/v1/tracks/1PrhnQxWAVYi...</td>\n",
       "      <td>https://api.spotify.com/v1/audio-analysis/1Prh...</td>\n",
       "      <td>169160.0</td>\n",
       "      <td>4.0</td>\n",
       "    </tr>\n",
       "    <tr>\n",
       "      <th>3</th>\n",
       "      <td>(There's No Place Like) Home for the Holidays ...</td>\n",
       "      <td>Perry Como</td>\n",
       "      <td>0.532</td>\n",
       "      <td>0.401</td>\n",
       "      <td>5.0</td>\n",
       "      <td>-10.629</td>\n",
       "      <td>1.0</td>\n",
       "      <td>0.0525</td>\n",
       "      <td>0.869</td>\n",
       "      <td>0.000000</td>\n",
       "      <td>0.2220</td>\n",
       "      <td>0.450</td>\n",
       "      <td>143.823</td>\n",
       "      <td>audio_features</td>\n",
       "      <td>2GapxG7BxK55ihQRAlR39e</td>\n",
       "      <td>spotify:track:2GapxG7BxK55ihQRAlR39e</td>\n",
       "      <td>https://api.spotify.com/v1/tracks/2GapxG7BxK55...</td>\n",
       "      <td>https://api.spotify.com/v1/audio-analysis/2Gap...</td>\n",
       "      <td>178293.0</td>\n",
       "      <td>4.0</td>\n",
       "    </tr>\n",
       "    <tr>\n",
       "      <th>4</th>\n",
       "      <td>Magic Moments</td>\n",
       "      <td>Perry Como</td>\n",
       "      <td>0.719</td>\n",
       "      <td>0.257</td>\n",
       "      <td>0.0</td>\n",
       "      <td>-14.446</td>\n",
       "      <td>0.0</td>\n",
       "      <td>0.0435</td>\n",
       "      <td>0.880</td>\n",
       "      <td>0.000003</td>\n",
       "      <td>0.2570</td>\n",
       "      <td>0.750</td>\n",
       "      <td>103.829</td>\n",
       "      <td>audio_features</td>\n",
       "      <td>7bflxIMDz5mFxhQyYx1CEh</td>\n",
       "      <td>spotify:track:7bflxIMDz5mFxhQyYx1CEh</td>\n",
       "      <td>https://api.spotify.com/v1/tracks/7bflxIMDz5mF...</td>\n",
       "      <td>https://api.spotify.com/v1/audio-analysis/7bfl...</td>\n",
       "      <td>159907.0</td>\n",
       "      <td>4.0</td>\n",
       "    </tr>\n",
       "  </tbody>\n",
       "</table>\n",
       "</div>"
      ],
      "text/plain": [
       "                                               title      artist  \\\n",
       "0  It's Beginning to Look a Lot Like Christmas (w...  Perry Como   \n",
       "1                                  And I Love You So  Perry Como   \n",
       "2                                    Christmas Dream  Perry Como   \n",
       "3  (There's No Place Like) Home for the Holidays ...  Perry Como   \n",
       "4                                      Magic Moments  Perry Como   \n",
       "\n",
       "   danceability  energy   key  loudness  mode  speechiness  acousticness  \\\n",
       "0         0.724   0.276   7.0   -12.250   1.0       0.0599         0.760   \n",
       "1         0.415   0.220   8.0   -17.470   1.0       0.0261         0.878   \n",
       "2         0.514   0.287  10.0   -13.971   1.0       0.0352         0.672   \n",
       "3         0.532   0.401   5.0   -10.629   1.0       0.0525         0.869   \n",
       "4         0.719   0.257   0.0   -14.446   0.0       0.0435         0.880   \n",
       "\n",
       "   instrumentalness  liveness  valence    tempo            type  \\\n",
       "0          0.000000    0.1160    0.718  112.874  audio_features   \n",
       "1          0.651000    0.1250    0.268   90.267  audio_features   \n",
       "2          0.000004    0.0677    0.834  184.356  audio_features   \n",
       "3          0.000000    0.2220    0.450  143.823  audio_features   \n",
       "4          0.000003    0.2570    0.750  103.829  audio_features   \n",
       "\n",
       "                       id                                   uri  \\\n",
       "0  2pXpURmn6zC5ZYDMms6fwa  spotify:track:2pXpURmn6zC5ZYDMms6fwa   \n",
       "1  1naVD19eofGpFf6wosmHIe  spotify:track:1naVD19eofGpFf6wosmHIe   \n",
       "2  1PrhnQxWAVYikCHcieRQiy  spotify:track:1PrhnQxWAVYikCHcieRQiy   \n",
       "3  2GapxG7BxK55ihQRAlR39e  spotify:track:2GapxG7BxK55ihQRAlR39e   \n",
       "4  7bflxIMDz5mFxhQyYx1CEh  spotify:track:7bflxIMDz5mFxhQyYx1CEh   \n",
       "\n",
       "                                          track_href  \\\n",
       "0  https://api.spotify.com/v1/tracks/2pXpURmn6zC5...   \n",
       "1  https://api.spotify.com/v1/tracks/1naVD19eofGp...   \n",
       "2  https://api.spotify.com/v1/tracks/1PrhnQxWAVYi...   \n",
       "3  https://api.spotify.com/v1/tracks/2GapxG7BxK55...   \n",
       "4  https://api.spotify.com/v1/tracks/7bflxIMDz5mF...   \n",
       "\n",
       "                                        analysis_url  duration_ms  \\\n",
       "0  https://api.spotify.com/v1/audio-analysis/2pXp...     155933.0   \n",
       "1  https://api.spotify.com/v1/audio-analysis/1naV...     197627.0   \n",
       "2  https://api.spotify.com/v1/audio-analysis/1Prh...     169160.0   \n",
       "3  https://api.spotify.com/v1/audio-analysis/2Gap...     178293.0   \n",
       "4  https://api.spotify.com/v1/audio-analysis/7bfl...     159907.0   \n",
       "\n",
       "   time_signature  \n",
       "0             4.0  \n",
       "1             4.0  \n",
       "2             4.0  \n",
       "3             4.0  \n",
       "4             4.0  "
      ]
     },
     "execution_count": 57,
     "metadata": {},
     "output_type": "execute_result"
    }
   ],
   "source": [
    "data = pd.read_csv('data_songs.csv')\n",
    "data.head()"
   ]
  },
  {
   "cell_type": "code",
   "execution_count": 58,
   "metadata": {},
   "outputs": [
    {
     "data": {
      "text/plain": [
       "title               0\n",
       "artist              0\n",
       "danceability        0\n",
       "energy              0\n",
       "key                 0\n",
       "loudness            0\n",
       "mode                0\n",
       "speechiness         0\n",
       "acousticness        0\n",
       "instrumentalness    0\n",
       "liveness            0\n",
       "valence             0\n",
       "tempo               0\n",
       "type                0\n",
       "id                  0\n",
       "uri                 0\n",
       "track_href          0\n",
       "analysis_url        0\n",
       "duration_ms         0\n",
       "time_signature      0\n",
       "dtype: int64"
      ]
     },
     "execution_count": 58,
     "metadata": {},
     "output_type": "execute_result"
    }
   ],
   "source": [
    "#Checking for NaNs\n",
    "data.isna().sum()"
   ]
  },
  {
   "cell_type": "code",
   "execution_count": 59,
   "metadata": {},
   "outputs": [
    {
     "data": {
      "text/html": [
       "<div>\n",
       "<style scoped>\n",
       "    .dataframe tbody tr th:only-of-type {\n",
       "        vertical-align: middle;\n",
       "    }\n",
       "\n",
       "    .dataframe tbody tr th {\n",
       "        vertical-align: top;\n",
       "    }\n",
       "\n",
       "    .dataframe thead th {\n",
       "        text-align: right;\n",
       "    }\n",
       "</style>\n",
       "<table border=\"1\" class=\"dataframe\">\n",
       "  <thead>\n",
       "    <tr style=\"text-align: right;\">\n",
       "      <th></th>\n",
       "      <th>title</th>\n",
       "      <th>artist</th>\n",
       "      <th>danceability</th>\n",
       "      <th>energy</th>\n",
       "      <th>key</th>\n",
       "      <th>loudness</th>\n",
       "      <th>mode</th>\n",
       "      <th>speechiness</th>\n",
       "      <th>acousticness</th>\n",
       "      <th>instrumentalness</th>\n",
       "      <th>liveness</th>\n",
       "      <th>valence</th>\n",
       "      <th>tempo</th>\n",
       "      <th>type</th>\n",
       "      <th>id</th>\n",
       "      <th>uri</th>\n",
       "      <th>track_href</th>\n",
       "      <th>analysis_url</th>\n",
       "      <th>duration_ms</th>\n",
       "      <th>time_signature</th>\n",
       "    </tr>\n",
       "  </thead>\n",
       "  <tbody>\n",
       "  </tbody>\n",
       "</table>\n",
       "</div>"
      ],
      "text/plain": [
       "Empty DataFrame\n",
       "Columns: [title, artist, danceability, energy, key, loudness, mode, speechiness, acousticness, instrumentalness, liveness, valence, tempo, type, id, uri, track_href, analysis_url, duration_ms, time_signature]\n",
       "Index: []"
      ]
     },
     "execution_count": 59,
     "metadata": {},
     "output_type": "execute_result"
    }
   ],
   "source": [
    "#Checking for NaNs\n",
    "data[data['danceability'].isna()==True]"
   ]
  },
  {
   "cell_type": "code",
   "execution_count": 60,
   "metadata": {},
   "outputs": [],
   "source": [
    "# strategy: drop rows that have null values (only if there are very few)\n",
    "data = data[data['danceability'].isna()==False]"
   ]
  },
  {
   "cell_type": "code",
   "execution_count": 61,
   "metadata": {},
   "outputs": [],
   "source": [
    "#replace .csv file\n",
    "data.to_csv('data_songs.csv', index = False)"
   ]
  },
  {
   "attachments": {},
   "cell_type": "markdown",
   "metadata": {},
   "source": [
    "#### Prepare Datatable for clustering:"
   ]
  },
  {
   "cell_type": "code",
   "execution_count": 62,
   "metadata": {},
   "outputs": [],
   "source": [
    "data_cluster = data.drop(columns=['title','artist','type','id','uri','track_href','analysis_url'], axis=1)"
   ]
  },
  {
   "cell_type": "code",
   "execution_count": 63,
   "metadata": {},
   "outputs": [
    {
     "data": {
      "text/plain": [
       "(7587, 13)"
      ]
     },
     "metadata": {},
     "output_type": "display_data"
    },
    {
     "data": {
      "text/html": [
       "<div>\n",
       "<style scoped>\n",
       "    .dataframe tbody tr th:only-of-type {\n",
       "        vertical-align: middle;\n",
       "    }\n",
       "\n",
       "    .dataframe tbody tr th {\n",
       "        vertical-align: top;\n",
       "    }\n",
       "\n",
       "    .dataframe thead th {\n",
       "        text-align: right;\n",
       "    }\n",
       "</style>\n",
       "<table border=\"1\" class=\"dataframe\">\n",
       "  <thead>\n",
       "    <tr style=\"text-align: right;\">\n",
       "      <th></th>\n",
       "      <th>danceability</th>\n",
       "      <th>energy</th>\n",
       "      <th>key</th>\n",
       "      <th>loudness</th>\n",
       "      <th>mode</th>\n",
       "      <th>speechiness</th>\n",
       "      <th>acousticness</th>\n",
       "      <th>instrumentalness</th>\n",
       "      <th>liveness</th>\n",
       "      <th>valence</th>\n",
       "      <th>tempo</th>\n",
       "      <th>duration_ms</th>\n",
       "      <th>time_signature</th>\n",
       "    </tr>\n",
       "  </thead>\n",
       "  <tbody>\n",
       "    <tr>\n",
       "      <th>0</th>\n",
       "      <td>0.724</td>\n",
       "      <td>0.276</td>\n",
       "      <td>7.0</td>\n",
       "      <td>-12.250</td>\n",
       "      <td>1.0</td>\n",
       "      <td>0.0599</td>\n",
       "      <td>0.760</td>\n",
       "      <td>0.000000</td>\n",
       "      <td>0.1160</td>\n",
       "      <td>0.718</td>\n",
       "      <td>112.874</td>\n",
       "      <td>155933.0</td>\n",
       "      <td>4.0</td>\n",
       "    </tr>\n",
       "    <tr>\n",
       "      <th>1</th>\n",
       "      <td>0.415</td>\n",
       "      <td>0.220</td>\n",
       "      <td>8.0</td>\n",
       "      <td>-17.470</td>\n",
       "      <td>1.0</td>\n",
       "      <td>0.0261</td>\n",
       "      <td>0.878</td>\n",
       "      <td>0.651000</td>\n",
       "      <td>0.1250</td>\n",
       "      <td>0.268</td>\n",
       "      <td>90.267</td>\n",
       "      <td>197627.0</td>\n",
       "      <td>4.0</td>\n",
       "    </tr>\n",
       "    <tr>\n",
       "      <th>2</th>\n",
       "      <td>0.514</td>\n",
       "      <td>0.287</td>\n",
       "      <td>10.0</td>\n",
       "      <td>-13.971</td>\n",
       "      <td>1.0</td>\n",
       "      <td>0.0352</td>\n",
       "      <td>0.672</td>\n",
       "      <td>0.000004</td>\n",
       "      <td>0.0677</td>\n",
       "      <td>0.834</td>\n",
       "      <td>184.356</td>\n",
       "      <td>169160.0</td>\n",
       "      <td>4.0</td>\n",
       "    </tr>\n",
       "    <tr>\n",
       "      <th>3</th>\n",
       "      <td>0.532</td>\n",
       "      <td>0.401</td>\n",
       "      <td>5.0</td>\n",
       "      <td>-10.629</td>\n",
       "      <td>1.0</td>\n",
       "      <td>0.0525</td>\n",
       "      <td>0.869</td>\n",
       "      <td>0.000000</td>\n",
       "      <td>0.2220</td>\n",
       "      <td>0.450</td>\n",
       "      <td>143.823</td>\n",
       "      <td>178293.0</td>\n",
       "      <td>4.0</td>\n",
       "    </tr>\n",
       "    <tr>\n",
       "      <th>4</th>\n",
       "      <td>0.719</td>\n",
       "      <td>0.257</td>\n",
       "      <td>0.0</td>\n",
       "      <td>-14.446</td>\n",
       "      <td>0.0</td>\n",
       "      <td>0.0435</td>\n",
       "      <td>0.880</td>\n",
       "      <td>0.000003</td>\n",
       "      <td>0.2570</td>\n",
       "      <td>0.750</td>\n",
       "      <td>103.829</td>\n",
       "      <td>159907.0</td>\n",
       "      <td>4.0</td>\n",
       "    </tr>\n",
       "  </tbody>\n",
       "</table>\n",
       "</div>"
      ],
      "text/plain": [
       "   danceability  energy   key  loudness  mode  speechiness  acousticness  \\\n",
       "0         0.724   0.276   7.0   -12.250   1.0       0.0599         0.760   \n",
       "1         0.415   0.220   8.0   -17.470   1.0       0.0261         0.878   \n",
       "2         0.514   0.287  10.0   -13.971   1.0       0.0352         0.672   \n",
       "3         0.532   0.401   5.0   -10.629   1.0       0.0525         0.869   \n",
       "4         0.719   0.257   0.0   -14.446   0.0       0.0435         0.880   \n",
       "\n",
       "   instrumentalness  liveness  valence    tempo  duration_ms  time_signature  \n",
       "0          0.000000    0.1160    0.718  112.874     155933.0             4.0  \n",
       "1          0.651000    0.1250    0.268   90.267     197627.0             4.0  \n",
       "2          0.000004    0.0677    0.834  184.356     169160.0             4.0  \n",
       "3          0.000000    0.2220    0.450  143.823     178293.0             4.0  \n",
       "4          0.000003    0.2570    0.750  103.829     159907.0             4.0  "
      ]
     },
     "execution_count": 63,
     "metadata": {},
     "output_type": "execute_result"
    }
   ],
   "source": [
    "display(data_cluster.shape)\n",
    "data_cluster.head()"
   ]
  },
  {
   "attachments": {},
   "cell_type": "markdown",
   "metadata": {},
   "source": [
    "#### Scaling the data"
   ]
  },
  {
   "cell_type": "code",
   "execution_count": 64,
   "metadata": {},
   "outputs": [],
   "source": [
    "scaler = StandardScaler().fit(data_cluster)\n",
    "data_cluster_scaled = scaler.transform(data_cluster)"
   ]
  },
  {
   "cell_type": "code",
   "execution_count": 65,
   "metadata": {},
   "outputs": [
    {
     "data": {
      "text/plain": [
       "(7587, 13)"
      ]
     },
     "metadata": {},
     "output_type": "display_data"
    },
    {
     "data": {
      "text/html": [
       "<div>\n",
       "<style scoped>\n",
       "    .dataframe tbody tr th:only-of-type {\n",
       "        vertical-align: middle;\n",
       "    }\n",
       "\n",
       "    .dataframe tbody tr th {\n",
       "        vertical-align: top;\n",
       "    }\n",
       "\n",
       "    .dataframe thead th {\n",
       "        text-align: right;\n",
       "    }\n",
       "</style>\n",
       "<table border=\"1\" class=\"dataframe\">\n",
       "  <thead>\n",
       "    <tr style=\"text-align: right;\">\n",
       "      <th></th>\n",
       "      <th>danceability</th>\n",
       "      <th>energy</th>\n",
       "      <th>key</th>\n",
       "      <th>loudness</th>\n",
       "      <th>mode</th>\n",
       "      <th>speechiness</th>\n",
       "      <th>acousticness</th>\n",
       "      <th>instrumentalness</th>\n",
       "      <th>liveness</th>\n",
       "      <th>valence</th>\n",
       "      <th>tempo</th>\n",
       "      <th>duration_ms</th>\n",
       "      <th>time_signature</th>\n",
       "    </tr>\n",
       "  </thead>\n",
       "  <tbody>\n",
       "    <tr>\n",
       "      <th>0</th>\n",
       "      <td>0.748028</td>\n",
       "      <td>-1.610081</td>\n",
       "      <td>0.490890</td>\n",
       "      <td>-1.006659</td>\n",
       "      <td>0.692477</td>\n",
       "      <td>-0.197674</td>\n",
       "      <td>1.618128</td>\n",
       "      <td>-0.299115</td>\n",
       "      <td>-0.450867</td>\n",
       "      <td>0.603879</td>\n",
       "      <td>-0.253011</td>\n",
       "      <td>-0.958492</td>\n",
       "      <td>0.206788</td>\n",
       "    </tr>\n",
       "    <tr>\n",
       "      <th>1</th>\n",
       "      <td>-1.186386</td>\n",
       "      <td>-1.869077</td>\n",
       "      <td>0.770562</td>\n",
       "      <td>-2.322013</td>\n",
       "      <td>0.692477</td>\n",
       "      <td>-0.616250</td>\n",
       "      <td>2.016243</td>\n",
       "      <td>3.386613</td>\n",
       "      <td>-0.391008</td>\n",
       "      <td>-1.202132</td>\n",
       "      <td>-1.061285</td>\n",
       "      <td>-0.391765</td>\n",
       "      <td>0.206788</td>\n",
       "    </tr>\n",
       "    <tr>\n",
       "      <th>2</th>\n",
       "      <td>-0.566622</td>\n",
       "      <td>-1.559206</td>\n",
       "      <td>1.329905</td>\n",
       "      <td>-1.440323</td>\n",
       "      <td>0.692477</td>\n",
       "      <td>-0.503556</td>\n",
       "      <td>1.321229</td>\n",
       "      <td>-0.299090</td>\n",
       "      <td>-0.772112</td>\n",
       "      <td>1.069428</td>\n",
       "      <td>2.302704</td>\n",
       "      <td>-0.778704</td>\n",
       "      <td>0.206788</td>\n",
       "    </tr>\n",
       "    <tr>\n",
       "      <th>3</th>\n",
       "      <td>-0.453938</td>\n",
       "      <td>-1.031963</td>\n",
       "      <td>-0.068453</td>\n",
       "      <td>-0.598194</td>\n",
       "      <td>0.692477</td>\n",
       "      <td>-0.289315</td>\n",
       "      <td>1.985878</td>\n",
       "      <td>-0.299115</td>\n",
       "      <td>0.254142</td>\n",
       "      <td>-0.471701</td>\n",
       "      <td>0.853517</td>\n",
       "      <td>-0.654563</td>\n",
       "      <td>0.206788</td>\n",
       "    </tr>\n",
       "    <tr>\n",
       "      <th>4</th>\n",
       "      <td>0.716727</td>\n",
       "      <td>-1.697954</td>\n",
       "      <td>-1.466810</td>\n",
       "      <td>-1.560015</td>\n",
       "      <td>-1.444092</td>\n",
       "      <td>-0.400770</td>\n",
       "      <td>2.022990</td>\n",
       "      <td>-0.299100</td>\n",
       "      <td>0.486929</td>\n",
       "      <td>0.732306</td>\n",
       "      <td>-0.576399</td>\n",
       "      <td>-0.904476</td>\n",
       "      <td>0.206788</td>\n",
       "    </tr>\n",
       "  </tbody>\n",
       "</table>\n",
       "</div>"
      ],
      "text/plain": [
       "   danceability    energy       key  loudness      mode  speechiness  \\\n",
       "0      0.748028 -1.610081  0.490890 -1.006659  0.692477    -0.197674   \n",
       "1     -1.186386 -1.869077  0.770562 -2.322013  0.692477    -0.616250   \n",
       "2     -0.566622 -1.559206  1.329905 -1.440323  0.692477    -0.503556   \n",
       "3     -0.453938 -1.031963 -0.068453 -0.598194  0.692477    -0.289315   \n",
       "4      0.716727 -1.697954 -1.466810 -1.560015 -1.444092    -0.400770   \n",
       "\n",
       "   acousticness  instrumentalness  liveness   valence     tempo  duration_ms  \\\n",
       "0      1.618128         -0.299115 -0.450867  0.603879 -0.253011    -0.958492   \n",
       "1      2.016243          3.386613 -0.391008 -1.202132 -1.061285    -0.391765   \n",
       "2      1.321229         -0.299090 -0.772112  1.069428  2.302704    -0.778704   \n",
       "3      1.985878         -0.299115  0.254142 -0.471701  0.853517    -0.654563   \n",
       "4      2.022990         -0.299100  0.486929  0.732306 -0.576399    -0.904476   \n",
       "\n",
       "   time_signature  \n",
       "0        0.206788  \n",
       "1        0.206788  \n",
       "2        0.206788  \n",
       "3        0.206788  \n",
       "4        0.206788  "
      ]
     },
     "execution_count": 65,
     "metadata": {},
     "output_type": "execute_result"
    }
   ],
   "source": [
    "data_cluster_scaled = pd.DataFrame(data_cluster_scaled, columns = data_cluster.columns)\n",
    "display(data_cluster_scaled.shape)\n",
    "data_cluster_scaled.head()"
   ]
  },
  {
   "attachments": {},
   "cell_type": "markdown",
   "metadata": {},
   "source": [
    "#### Pickle the scaler for future use"
   ]
  },
  {
   "cell_type": "code",
   "execution_count": 66,
   "metadata": {},
   "outputs": [],
   "source": [
    "pickle.dump(scaler,open('scaler.p', 'wb'))"
   ]
  },
  {
   "attachments": {},
   "cell_type": "markdown",
   "metadata": {},
   "source": [
    "#### Save the scaled dataset ready for clustering"
   ]
  },
  {
   "cell_type": "code",
   "execution_count": 67,
   "metadata": {},
   "outputs": [],
   "source": [
    "data_cluster_scaled.to_csv('playlist_scaled.csv', index = False)"
   ]
  },
  {
   "attachments": {},
   "cell_type": "markdown",
   "metadata": {},
   "source": [
    "### Clustering"
   ]
  },
  {
   "attachments": {},
   "cell_type": "markdown",
   "metadata": {},
   "source": [
    "#### Choosing k"
   ]
  },
  {
   "cell_type": "code",
   "execution_count": 69,
   "metadata": {},
   "outputs": [
    {
     "name": "stderr",
     "output_type": "stream",
     "text": [
      "/Users/josephinebonvin/opt/anaconda3/lib/python3.9/site-packages/sklearn/cluster/_kmeans.py:870: FutureWarning: The default value of `n_init` will change from 10 to 'auto' in 1.4. Set the value of `n_init` explicitly to suppress the warning\n",
      "  warnings.warn(\n",
      "/Users/josephinebonvin/opt/anaconda3/lib/python3.9/site-packages/sklearn/cluster/_kmeans.py:870: FutureWarning: The default value of `n_init` will change from 10 to 'auto' in 1.4. Set the value of `n_init` explicitly to suppress the warning\n",
      "  warnings.warn(\n",
      "/Users/josephinebonvin/opt/anaconda3/lib/python3.9/site-packages/sklearn/cluster/_kmeans.py:870: FutureWarning: The default value of `n_init` will change from 10 to 'auto' in 1.4. Set the value of `n_init` explicitly to suppress the warning\n",
      "  warnings.warn(\n",
      "/Users/josephinebonvin/opt/anaconda3/lib/python3.9/site-packages/sklearn/cluster/_kmeans.py:870: FutureWarning: The default value of `n_init` will change from 10 to 'auto' in 1.4. Set the value of `n_init` explicitly to suppress the warning\n",
      "  warnings.warn(\n",
      "/Users/josephinebonvin/opt/anaconda3/lib/python3.9/site-packages/sklearn/cluster/_kmeans.py:870: FutureWarning: The default value of `n_init` will change from 10 to 'auto' in 1.4. Set the value of `n_init` explicitly to suppress the warning\n",
      "  warnings.warn(\n",
      "/Users/josephinebonvin/opt/anaconda3/lib/python3.9/site-packages/sklearn/cluster/_kmeans.py:870: FutureWarning: The default value of `n_init` will change from 10 to 'auto' in 1.4. Set the value of `n_init` explicitly to suppress the warning\n",
      "  warnings.warn(\n",
      "/Users/josephinebonvin/opt/anaconda3/lib/python3.9/site-packages/sklearn/cluster/_kmeans.py:870: FutureWarning: The default value of `n_init` will change from 10 to 'auto' in 1.4. Set the value of `n_init` explicitly to suppress the warning\n",
      "  warnings.warn(\n",
      "/Users/josephinebonvin/opt/anaconda3/lib/python3.9/site-packages/sklearn/cluster/_kmeans.py:870: FutureWarning: The default value of `n_init` will change from 10 to 'auto' in 1.4. Set the value of `n_init` explicitly to suppress the warning\n",
      "  warnings.warn(\n",
      "/Users/josephinebonvin/opt/anaconda3/lib/python3.9/site-packages/sklearn/cluster/_kmeans.py:870: FutureWarning: The default value of `n_init` will change from 10 to 'auto' in 1.4. Set the value of `n_init` explicitly to suppress the warning\n",
      "  warnings.warn(\n",
      "/Users/josephinebonvin/opt/anaconda3/lib/python3.9/site-packages/sklearn/cluster/_kmeans.py:870: FutureWarning: The default value of `n_init` will change from 10 to 'auto' in 1.4. Set the value of `n_init` explicitly to suppress the warning\n",
      "  warnings.warn(\n",
      "/Users/josephinebonvin/opt/anaconda3/lib/python3.9/site-packages/sklearn/cluster/_kmeans.py:870: FutureWarning: The default value of `n_init` will change from 10 to 'auto' in 1.4. Set the value of `n_init` explicitly to suppress the warning\n",
      "  warnings.warn(\n",
      "/Users/josephinebonvin/opt/anaconda3/lib/python3.9/site-packages/sklearn/cluster/_kmeans.py:870: FutureWarning: The default value of `n_init` will change from 10 to 'auto' in 1.4. Set the value of `n_init` explicitly to suppress the warning\n",
      "  warnings.warn(\n",
      "/Users/josephinebonvin/opt/anaconda3/lib/python3.9/site-packages/sklearn/cluster/_kmeans.py:870: FutureWarning: The default value of `n_init` will change from 10 to 'auto' in 1.4. Set the value of `n_init` explicitly to suppress the warning\n",
      "  warnings.warn(\n",
      "/Users/josephinebonvin/opt/anaconda3/lib/python3.9/site-packages/sklearn/cluster/_kmeans.py:870: FutureWarning: The default value of `n_init` will change from 10 to 'auto' in 1.4. Set the value of `n_init` explicitly to suppress the warning\n",
      "  warnings.warn(\n",
      "/Users/josephinebonvin/opt/anaconda3/lib/python3.9/site-packages/sklearn/cluster/_kmeans.py:870: FutureWarning: The default value of `n_init` will change from 10 to 'auto' in 1.4. Set the value of `n_init` explicitly to suppress the warning\n",
      "  warnings.warn(\n",
      "/Users/josephinebonvin/opt/anaconda3/lib/python3.9/site-packages/sklearn/cluster/_kmeans.py:870: FutureWarning: The default value of `n_init` will change from 10 to 'auto' in 1.4. Set the value of `n_init` explicitly to suppress the warning\n",
      "  warnings.warn(\n",
      "/Users/josephinebonvin/opt/anaconda3/lib/python3.9/site-packages/sklearn/cluster/_kmeans.py:870: FutureWarning: The default value of `n_init` will change from 10 to 'auto' in 1.4. Set the value of `n_init` explicitly to suppress the warning\n",
      "  warnings.warn(\n",
      "/Users/josephinebonvin/opt/anaconda3/lib/python3.9/site-packages/sklearn/cluster/_kmeans.py:870: FutureWarning: The default value of `n_init` will change from 10 to 'auto' in 1.4. Set the value of `n_init` explicitly to suppress the warning\n",
      "  warnings.warn(\n"
     ]
    }
   ],
   "source": [
    "K = range(2, 20)\n",
    "inertia = []\n",
    "\n",
    "for k in K:\n",
    "    kmeans = KMeans(n_clusters=k, random_state=1234)\n",
    "    kmeans.fit(data_cluster_scaled)\n",
    "    inertia.append(kmeans.inertia_)\n"
   ]
  },
  {
   "cell_type": "code",
   "execution_count": 70,
   "metadata": {},
   "outputs": [
    {
     "data": {
      "text/plain": [
       "Text(0.5, 1.0, 'Elbow Method showing the optimal k')"
      ]
     },
     "execution_count": 70,
     "metadata": {},
     "output_type": "execute_result"
    },
    {
     "data": {
      "image/png": "[encoded data removed]",
      "text/plain": [
       "<Figure size 1600x800 with 1 Axes>"
      ]
     },
     "metadata": {},
     "output_type": "display_data"
    }
   ],
   "source": [
    "#%matplotlib inline\n",
    "\n",
    "plt.figure(figsize=(16,8))\n",
    "plt.plot(K, inertia, 'bx-')\n",
    "plt.xlabel('k')\n",
    "plt.ylabel('inertia')\n",
    "plt.xticks(np.arange(min(K), max(K)+1, 1.0))\n",
    "plt.title('Elbow Method showing the optimal k')"
   ]
  },
  {
   "attachments": {},
   "cell_type": "markdown",
   "metadata": {},
   "source": [
    "We cannot really see an \"elbow\" so we have to look for the silhouette score"
   ]
  },
  {
   "attachments": {},
   "cell_type": "markdown",
   "metadata": {},
   "source": [
    "#### Silhouette Score"
   ]
  },
  {
   "cell_type": "code",
   "execution_count": 72,
   "metadata": {},
   "outputs": [
    {
     "name": "stderr",
     "output_type": "stream",
     "text": [
      "/Users/josephinebonvin/opt/anaconda3/lib/python3.9/site-packages/sklearn/cluster/_kmeans.py:870: FutureWarning: The default value of `n_init` will change from 10 to 'auto' in 1.4. Set the value of `n_init` explicitly to suppress the warning\n",
      "  warnings.warn(\n",
      "/Users/josephinebonvin/opt/anaconda3/lib/python3.9/site-packages/sklearn/cluster/_kmeans.py:870: FutureWarning: The default value of `n_init` will change from 10 to 'auto' in 1.4. Set the value of `n_init` explicitly to suppress the warning\n",
      "  warnings.warn(\n",
      "/Users/josephinebonvin/opt/anaconda3/lib/python3.9/site-packages/sklearn/cluster/_kmeans.py:870: FutureWarning: The default value of `n_init` will change from 10 to 'auto' in 1.4. Set the value of `n_init` explicitly to suppress the warning\n",
      "  warnings.warn(\n",
      "/Users/josephinebonvin/opt/anaconda3/lib/python3.9/site-packages/sklearn/cluster/_kmeans.py:870: FutureWarning: The default value of `n_init` will change from 10 to 'auto' in 1.4. Set the value of `n_init` explicitly to suppress the warning\n",
      "  warnings.warn(\n",
      "/Users/josephinebonvin/opt/anaconda3/lib/python3.9/site-packages/sklearn/cluster/_kmeans.py:870: FutureWarning: The default value of `n_init` will change from 10 to 'auto' in 1.4. Set the value of `n_init` explicitly to suppress the warning\n",
      "  warnings.warn(\n",
      "/Users/josephinebonvin/opt/anaconda3/lib/python3.9/site-packages/sklearn/cluster/_kmeans.py:870: FutureWarning: The default value of `n_init` will change from 10 to 'auto' in 1.4. Set the value of `n_init` explicitly to suppress the warning\n",
      "  warnings.warn(\n",
      "/Users/josephinebonvin/opt/anaconda3/lib/python3.9/site-packages/sklearn/cluster/_kmeans.py:870: FutureWarning: The default value of `n_init` will change from 10 to 'auto' in 1.4. Set the value of `n_init` explicitly to suppress the warning\n",
      "  warnings.warn(\n",
      "/Users/josephinebonvin/opt/anaconda3/lib/python3.9/site-packages/sklearn/cluster/_kmeans.py:870: FutureWarning: The default value of `n_init` will change from 10 to 'auto' in 1.4. Set the value of `n_init` explicitly to suppress the warning\n",
      "  warnings.warn(\n",
      "/Users/josephinebonvin/opt/anaconda3/lib/python3.9/site-packages/sklearn/cluster/_kmeans.py:870: FutureWarning: The default value of `n_init` will change from 10 to 'auto' in 1.4. Set the value of `n_init` explicitly to suppress the warning\n",
      "  warnings.warn(\n",
      "/Users/josephinebonvin/opt/anaconda3/lib/python3.9/site-packages/sklearn/cluster/_kmeans.py:870: FutureWarning: The default value of `n_init` will change from 10 to 'auto' in 1.4. Set the value of `n_init` explicitly to suppress the warning\n",
      "  warnings.warn(\n",
      "/Users/josephinebonvin/opt/anaconda3/lib/python3.9/site-packages/sklearn/cluster/_kmeans.py:870: FutureWarning: The default value of `n_init` will change from 10 to 'auto' in 1.4. Set the value of `n_init` explicitly to suppress the warning\n",
      "  warnings.warn(\n",
      "/Users/josephinebonvin/opt/anaconda3/lib/python3.9/site-packages/sklearn/cluster/_kmeans.py:870: FutureWarning: The default value of `n_init` will change from 10 to 'auto' in 1.4. Set the value of `n_init` explicitly to suppress the warning\n",
      "  warnings.warn(\n",
      "/Users/josephinebonvin/opt/anaconda3/lib/python3.9/site-packages/sklearn/cluster/_kmeans.py:870: FutureWarning: The default value of `n_init` will change from 10 to 'auto' in 1.4. Set the value of `n_init` explicitly to suppress the warning\n",
      "  warnings.warn(\n",
      "/Users/josephinebonvin/opt/anaconda3/lib/python3.9/site-packages/sklearn/cluster/_kmeans.py:870: FutureWarning: The default value of `n_init` will change from 10 to 'auto' in 1.4. Set the value of `n_init` explicitly to suppress the warning\n",
      "  warnings.warn(\n",
      "/Users/josephinebonvin/opt/anaconda3/lib/python3.9/site-packages/sklearn/cluster/_kmeans.py:870: FutureWarning: The default value of `n_init` will change from 10 to 'auto' in 1.4. Set the value of `n_init` explicitly to suppress the warning\n",
      "  warnings.warn(\n",
      "/Users/josephinebonvin/opt/anaconda3/lib/python3.9/site-packages/sklearn/cluster/_kmeans.py:870: FutureWarning: The default value of `n_init` will change from 10 to 'auto' in 1.4. Set the value of `n_init` explicitly to suppress the warning\n",
      "  warnings.warn(\n",
      "/Users/josephinebonvin/opt/anaconda3/lib/python3.9/site-packages/sklearn/cluster/_kmeans.py:870: FutureWarning: The default value of `n_init` will change from 10 to 'auto' in 1.4. Set the value of `n_init` explicitly to suppress the warning\n",
      "  warnings.warn(\n",
      "/Users/josephinebonvin/opt/anaconda3/lib/python3.9/site-packages/sklearn/cluster/_kmeans.py:870: FutureWarning: The default value of `n_init` will change from 10 to 'auto' in 1.4. Set the value of `n_init` explicitly to suppress the warning\n",
      "  warnings.warn(\n"
     ]
    },
    {
     "data": {
      "text/plain": [
       "Text(0.5, 1.0, 'Slhouette score showing the optimal k')"
      ]
     },
     "execution_count": 72,
     "metadata": {},
     "output_type": "execute_result"
    },
    {
     "data": {
      "image/png": "[encoded data removed]",
      "text/plain": [
       "<Figure size 1600x800 with 1 Axes>"
      ]
     },
     "metadata": {},
     "output_type": "display_data"
    }
   ],
   "source": [
    "K = range(2, 20)\n",
    "silhouette = []\n",
    "\n",
    "for k in K:\n",
    "    kmeans = KMeans(n_clusters=k,\n",
    "                    random_state=1234)\n",
    "    kmeans.fit(data_cluster_scaled)\n",
    "    silhouette.append(silhouette_score(data_cluster_scaled, kmeans.predict(data_cluster_scaled)))\n",
    "\n",
    "\n",
    "plt.figure(figsize=(16,8))\n",
    "plt.plot(K, silhouette, 'bx-')\n",
    "plt.xlabel('k')\n",
    "plt.ylabel('silhouette score')\n",
    "plt.xticks(np.arange(min(K), max(K)+1, 1.0))\n",
    "plt.title('Slhouette score showing the optimal k')"
   ]
  },
  {
   "attachments": {},
   "cell_type": "markdown",
   "metadata": {},
   "source": [
    "I will choose 7 clusters, since it is the highest point, when not considering the k=2 option."
   ]
  },
  {
   "attachments": {},
   "cell_type": "markdown",
   "metadata": {},
   "source": [
    "#### Clustering"
   ]
  },
  {
   "cell_type": "code",
   "execution_count": 73,
   "metadata": {},
   "outputs": [
    {
     "name": "stderr",
     "output_type": "stream",
     "text": [
      "/Users/josephinebonvin/opt/anaconda3/lib/python3.9/site-packages/sklearn/cluster/_kmeans.py:870: FutureWarning: The default value of `n_init` will change from 10 to 'auto' in 1.4. Set the value of `n_init` explicitly to suppress the warning\n",
      "  warnings.warn(\n"
     ]
    },
    {
     "data": {
      "text/html": [
       "<style>#sk-container-id-1 {color: black;background-color: white;}#sk-container-id-1 pre{padding: 0;}#sk-container-id-1 div.sk-toggleable {background-color: white;}#sk-container-id-1 label.sk-toggleable__label {cursor: pointer;display: block;width: 100%;margin-bottom: 0;padding: 0.3em;box-sizing: border-box;text-align: center;}#sk-container-id-1 label.sk-toggleable__label-arrow:before {content: \"▸\";float: left;margin-right: 0.25em;color: #696969;}#sk-container-id-1 label.sk-toggleable__label-arrow:hover:before {color: black;}#sk-container-id-1 div.sk-estimator:hover label.sk-toggleable__label-arrow:before {color: black;}#sk-container-id-1 div.sk-toggleable__content {max-height: 0;max-width: 0;overflow: hidden;text-align: left;background-color: #f0f8ff;}#sk-container-id-1 div.sk-toggleable__content pre {margin: 0.2em;color: black;border-radius: 0.25em;background-color: #f0f8ff;}#sk-container-id-1 input.sk-toggleable__control:checked~div.sk-toggleable__content {max-height: 200px;max-width: 100%;overflow: auto;}#sk-container-id-1 input.sk-toggleable__control:checked~label.sk-toggleable__label-arrow:before {content: \"▾\";}#sk-container-id-1 div.sk-estimator input.sk-toggleable__control:checked~label.sk-toggleable__label {background-color: #d4ebff;}#sk-container-id-1 div.sk-label input.sk-toggleable__control:checked~label.sk-toggleable__label {background-color: #d4ebff;}#sk-container-id-1 input.sk-hidden--visually {border: 0;clip: rect(1px 1px 1px 1px);clip: rect(1px, 1px, 1px, 1px);height: 1px;margin: -1px;overflow: hidden;padding: 0;position: absolute;width: 1px;}#sk-container-id-1 div.sk-estimator {font-family: monospace;background-color: #f0f8ff;border: 1px dotted black;border-radius: 0.25em;box-sizing: border-box;margin-bottom: 0.5em;}#sk-container-id-1 div.sk-estimator:hover {background-color: #d4ebff;}#sk-container-id-1 div.sk-parallel-item::after {content: \"\";width: 100%;border-bottom: 1px solid gray;flex-grow: 1;}#sk-container-id-1 div.sk-label:hover label.sk-toggleable__label {background-color: #d4ebff;}#sk-container-id-1 div.sk-serial::before {content: \"\";position: absolute;border-left: 1px solid gray;box-sizing: border-box;top: 0;bottom: 0;left: 50%;z-index: 0;}#sk-container-id-1 div.sk-serial {display: flex;flex-direction: column;align-items: center;background-color: white;padding-right: 0.2em;padding-left: 0.2em;position: relative;}#sk-container-id-1 div.sk-item {position: relative;z-index: 1;}#sk-container-id-1 div.sk-parallel {display: flex;align-items: stretch;justify-content: center;background-color: white;position: relative;}#sk-container-id-1 div.sk-item::before, #sk-container-id-1 div.sk-parallel-item::before {content: \"\";position: absolute;border-left: 1px solid gray;box-sizing: border-box;top: 0;bottom: 0;left: 50%;z-index: -1;}#sk-container-id-1 div.sk-parallel-item {display: flex;flex-direction: column;z-index: 1;position: relative;background-color: white;}#sk-container-id-1 div.sk-parallel-item:first-child::after {align-self: flex-end;width: 50%;}#sk-container-id-1 div.sk-parallel-item:last-child::after {align-self: flex-start;width: 50%;}#sk-container-id-1 div.sk-parallel-item:only-child::after {width: 0;}#sk-container-id-1 div.sk-dashed-wrapped {border: 1px dashed gray;margin: 0 0.4em 0.5em 0.4em;box-sizing: border-box;padding-bottom: 0.4em;background-color: white;}#sk-container-id-1 div.sk-label label {font-family: monospace;font-weight: bold;display: inline-block;line-height: 1.2em;}#sk-container-id-1 div.sk-label-container {text-align: center;}#sk-container-id-1 div.sk-container {/* jupyter's `normalize.less` sets `[hidden] { display: none; }` but bootstrap.min.css set `[hidden] { display: none !important; }` so we also need the `!important` here to be able to override the default hidden behavior on the sphinx rendered scikit-learn.org. See: https://github.com/scikit-learn/scikit-learn/issues/21755 */display: inline-block !important;position: relative;}#sk-container-id-1 div.sk-text-repr-fallback {display: none;}</style><div id=\"sk-container-id-1\" class=\"sk-top-container\"><div class=\"sk-text-repr-fallback\"><pre>KMeans(n_clusters=7, random_state=1234)</pre><b>In a Jupyter environment, please rerun this cell to show the HTML representation or trust the notebook. <br />On GitHub, the HTML representation is unable to render, please try loading this page with nbviewer.org.</b></div><div class=\"sk-container\" hidden><div class=\"sk-item\"><div class=\"sk-estimator sk-toggleable\"><input class=\"sk-toggleable__control sk-hidden--visually\" id=\"sk-estimator-id-1\" type=\"checkbox\" checked><label for=\"sk-estimator-id-1\" class=\"sk-toggleable__label sk-toggleable__label-arrow\">KMeans</label><div class=\"sk-toggleable__content\"><pre>KMeans(n_clusters=7, random_state=1234)</pre></div></div></div></div></div>"
      ],
      "text/plain": [
       "KMeans(n_clusters=7, random_state=1234)"
      ]
     },
     "execution_count": 73,
     "metadata": {},
     "output_type": "execute_result"
    }
   ],
   "source": [
    "kmeans = cluster.KMeans(n_clusters=7, random_state = 1234)\n",
    "kmeans.fit(data_cluster_scaled)"
   ]
  },
  {
   "cell_type": "code",
   "execution_count": 75,
   "metadata": {},
   "outputs": [
    {
     "data": {
      "text/plain": [
       "0    1291\n",
       "1    1629\n",
       "2     628\n",
       "3    2643\n",
       "4     566\n",
       "5     388\n",
       "6     442\n",
       "dtype: int64"
      ]
     },
     "execution_count": 75,
     "metadata": {},
     "output_type": "execute_result"
    }
   ],
   "source": [
    "# Predicting / assigning the clusters:\n",
    "clusters = kmeans.predict(data_cluster_scaled)\n",
    "\n",
    "# Check the size of the clusters\n",
    "pd.Series(clusters).value_counts().sort_index()"
   ]
  },
  {
   "cell_type": "code",
   "execution_count": 78,
   "metadata": {},
   "outputs": [
    {
     "data": {
      "text/plain": [
       "60863.4706564707"
      ]
     },
     "execution_count": 78,
     "metadata": {},
     "output_type": "execute_result"
    }
   ],
   "source": [
    "#Inertia\n",
    "kmeans.inertia_ "
   ]
  },
  {
   "attachments": {},
   "cell_type": "markdown",
   "metadata": {},
   "source": [
    "##### Pickle kmeans for future use"
   ]
  },
  {
   "cell_type": "code",
   "execution_count": 79,
   "metadata": {},
   "outputs": [],
   "source": [
    "pickle.dump(kmeans,open('kmeans_7_cluster.p', 'wb'))"
   ]
  },
  {
   "attachments": {},
   "cell_type": "markdown",
   "metadata": {},
   "source": [
    "### Save the clustering information in the dataframe"
   ]
  },
  {
   "cell_type": "code",
   "execution_count": 80,
   "metadata": {},
   "outputs": [
    {
     "data": {
      "text/html": [
       "<div>\n",
       "<style scoped>\n",
       "    .dataframe tbody tr th:only-of-type {\n",
       "        vertical-align: middle;\n",
       "    }\n",
       "\n",
       "    .dataframe tbody tr th {\n",
       "        vertical-align: top;\n",
       "    }\n",
       "\n",
       "    .dataframe thead th {\n",
       "        text-align: right;\n",
       "    }\n",
       "</style>\n",
       "<table border=\"1\" class=\"dataframe\">\n",
       "  <thead>\n",
       "    <tr style=\"text-align: right;\">\n",
       "      <th></th>\n",
       "      <th>danceability</th>\n",
       "      <th>energy</th>\n",
       "      <th>key</th>\n",
       "      <th>loudness</th>\n",
       "      <th>mode</th>\n",
       "      <th>speechiness</th>\n",
       "      <th>acousticness</th>\n",
       "      <th>instrumentalness</th>\n",
       "      <th>liveness</th>\n",
       "      <th>valence</th>\n",
       "      <th>tempo</th>\n",
       "      <th>duration_ms</th>\n",
       "      <th>time_signature</th>\n",
       "      <th>clusters</th>\n",
       "    </tr>\n",
       "  </thead>\n",
       "  <tbody>\n",
       "    <tr>\n",
       "      <th>0</th>\n",
       "      <td>0.748028</td>\n",
       "      <td>-1.610081</td>\n",
       "      <td>0.490890</td>\n",
       "      <td>-1.006659</td>\n",
       "      <td>0.692477</td>\n",
       "      <td>-0.197674</td>\n",
       "      <td>1.618128</td>\n",
       "      <td>-0.299115</td>\n",
       "      <td>-0.450867</td>\n",
       "      <td>0.603879</td>\n",
       "      <td>-0.253011</td>\n",
       "      <td>-0.958492</td>\n",
       "      <td>0.206788</td>\n",
       "      <td>0</td>\n",
       "    </tr>\n",
       "    <tr>\n",
       "      <th>1</th>\n",
       "      <td>-1.186386</td>\n",
       "      <td>-1.869077</td>\n",
       "      <td>0.770562</td>\n",
       "      <td>-2.322013</td>\n",
       "      <td>0.692477</td>\n",
       "      <td>-0.616250</td>\n",
       "      <td>2.016243</td>\n",
       "      <td>3.386613</td>\n",
       "      <td>-0.391008</td>\n",
       "      <td>-1.202132</td>\n",
       "      <td>-1.061285</td>\n",
       "      <td>-0.391765</td>\n",
       "      <td>0.206788</td>\n",
       "      <td>5</td>\n",
       "    </tr>\n",
       "    <tr>\n",
       "      <th>2</th>\n",
       "      <td>-0.566622</td>\n",
       "      <td>-1.559206</td>\n",
       "      <td>1.329905</td>\n",
       "      <td>-1.440323</td>\n",
       "      <td>0.692477</td>\n",
       "      <td>-0.503556</td>\n",
       "      <td>1.321229</td>\n",
       "      <td>-0.299090</td>\n",
       "      <td>-0.772112</td>\n",
       "      <td>1.069428</td>\n",
       "      <td>2.302704</td>\n",
       "      <td>-0.778704</td>\n",
       "      <td>0.206788</td>\n",
       "      <td>0</td>\n",
       "    </tr>\n",
       "    <tr>\n",
       "      <th>3</th>\n",
       "      <td>-0.453938</td>\n",
       "      <td>-1.031963</td>\n",
       "      <td>-0.068453</td>\n",
       "      <td>-0.598194</td>\n",
       "      <td>0.692477</td>\n",
       "      <td>-0.289315</td>\n",
       "      <td>1.985878</td>\n",
       "      <td>-0.299115</td>\n",
       "      <td>0.254142</td>\n",
       "      <td>-0.471701</td>\n",
       "      <td>0.853517</td>\n",
       "      <td>-0.654563</td>\n",
       "      <td>0.206788</td>\n",
       "      <td>0</td>\n",
       "    </tr>\n",
       "    <tr>\n",
       "      <th>4</th>\n",
       "      <td>0.716727</td>\n",
       "      <td>-1.697954</td>\n",
       "      <td>-1.466810</td>\n",
       "      <td>-1.560015</td>\n",
       "      <td>-1.444092</td>\n",
       "      <td>-0.400770</td>\n",
       "      <td>2.022990</td>\n",
       "      <td>-0.299100</td>\n",
       "      <td>0.486929</td>\n",
       "      <td>0.732306</td>\n",
       "      <td>-0.576399</td>\n",
       "      <td>-0.904476</td>\n",
       "      <td>0.206788</td>\n",
       "      <td>0</td>\n",
       "    </tr>\n",
       "  </tbody>\n",
       "</table>\n",
       "</div>"
      ],
      "text/plain": [
       "   danceability    energy       key  loudness      mode  speechiness  \\\n",
       "0      0.748028 -1.610081  0.490890 -1.006659  0.692477    -0.197674   \n",
       "1     -1.186386 -1.869077  0.770562 -2.322013  0.692477    -0.616250   \n",
       "2     -0.566622 -1.559206  1.329905 -1.440323  0.692477    -0.503556   \n",
       "3     -0.453938 -1.031963 -0.068453 -0.598194  0.692477    -0.289315   \n",
       "4      0.716727 -1.697954 -1.466810 -1.560015 -1.444092    -0.400770   \n",
       "\n",
       "   acousticness  instrumentalness  liveness   valence     tempo  duration_ms  \\\n",
       "0      1.618128         -0.299115 -0.450867  0.603879 -0.253011    -0.958492   \n",
       "1      2.016243          3.386613 -0.391008 -1.202132 -1.061285    -0.391765   \n",
       "2      1.321229         -0.299090 -0.772112  1.069428  2.302704    -0.778704   \n",
       "3      1.985878         -0.299115  0.254142 -0.471701  0.853517    -0.654563   \n",
       "4      2.022990         -0.299100  0.486929  0.732306 -0.576399    -0.904476   \n",
       "\n",
       "   time_signature  clusters  \n",
       "0        0.206788         0  \n",
       "1        0.206788         5  \n",
       "2        0.206788         0  \n",
       "3        0.206788         0  \n",
       "4        0.206788         0  "
      ]
     },
     "execution_count": 80,
     "metadata": {},
     "output_type": "execute_result"
    }
   ],
   "source": [
    "data_clustered = data_cluster_scaled.assign(clusters = clusters)\n",
    "data_clustered.head()"
   ]
  },
  {
   "cell_type": "code",
   "execution_count": 81,
   "metadata": {},
   "outputs": [],
   "source": [
    "data_clustered.to_csv('playlist_7_clusters.csv', index=False)"
   ]
  },
  {
   "cell_type": "code",
   "execution_count": null,
   "metadata": {},
   "outputs": [],
   "source": []
  }
 ],
 "metadata": {
  "kernelspec": {
   "display_name": "base",
   "language": "python",
   "name": "python3"
  },
  "language_info": {
   "codemirror_mode": {
    "name": "ipython",
    "version": 3
   },
   "file_extension": ".py",
   "mimetype": "text/x-python",
   "name": "python",
   "nbconvert_exporter": "python",
   "pygments_lexer": "ipython3",
   "version": "3.9.13"
  },
  "orig_nbformat": 4,
  "vscode": {
   "interpreter": {
    "hash": "b01aa82c089d46d4ceb89fb7ffd57daafa20ba13648cb1fb6af42a5f23defc8e"
   }
  }
 },
 "nbformat": 4,
 "nbformat_minor": 2
}
